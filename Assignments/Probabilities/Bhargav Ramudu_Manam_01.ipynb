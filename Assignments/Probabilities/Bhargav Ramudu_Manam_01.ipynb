{
  "cells": [
    {
      "cell_type": "markdown",
      "metadata": {
        "id": "-CGKEDbAwL9E"
      },
      "source": [
        "## Exercise 1\n",
        "\n",
        "**Using the football dataset, estimate the following conditional probabilities in two different ways (one through relative frequencies and one using an approximated distribution):**\n",
        "\n",
        "- P1: Pr(Favorite wins | point spread = 8)\n",
        "- P2: Pr(Favorite wins by at least 8 points | point spread = 8)\n",
        "- P3: Pr(Favorite wins by at least 8 points | point spread = 8 and favorite wins)"
      ]
    },
    {
      "cell_type": "markdown",
      "source": [
        "> # Exercise 1- Solution:"
      ],
      "metadata": {
        "id": "12ILR9xmMk0F"
      }
    },
    {
      "cell_type": "code",
      "source": [
        "from numpy.ma.core import sqrt\n",
        "from scipy.stats.distributions import norm_gen\n",
        "%autosave 120\n",
        "%matplotlib inline\n",
        "import numpy as np\n",
        "import pandas as pd\n",
        "#%matplotlib notebook\n",
        "import matplotlib.pyplot as plt\n",
        "from IPython.display import display, Markdown, clear_output\n",
        "import ipywidgets as widgets\n",
        "from scipy.stats import norm"
      ],
      "metadata": {
        "colab": {
          "base_uri": "https://localhost:8080/",
          "height": 34
        },
        "id": "-gD4250lRbO3",
        "outputId": "5a86b756-0d82-4bb6-8366-340b52ea46c6"
      },
      "execution_count": 1,
      "outputs": [
        {
          "output_type": "display_data",
          "data": {
            "application/javascript": [
              "IPython.notebook.set_autosave_interval(120000)"
            ]
          },
          "metadata": {}
        },
        {
          "output_type": "stream",
          "name": "stdout",
          "text": [
            "Autosaving every 120 seconds\n"
          ]
        }
      ]
    },
    {
      "cell_type": "code",
      "source": [
        "football_dataset_path = 'football_dataset.txt'\n",
        "data = pd.read_csv(football_dataset_path, index_col=False, header=0, sep=\",\")\n",
        "data.head()"
      ],
      "metadata": {
        "id": "cUtUw6jKAlk0",
        "colab": {
          "base_uri": "https://localhost:8080/",
          "height": 206
        },
        "outputId": "3d91a535-41dc-41fa-81e1-a4539c30ca29"
      },
      "execution_count": 2,
      "outputs": [
        {
          "output_type": "execute_result",
          "data": {
            "text/plain": [
              "   home  favorite  underdog  spread favorite.name underdog.name  week\n",
              "0     1        21        13     2.0            TB           MIN     1\n",
              "1     1        27         0     9.5           ATL            NO     1\n",
              "2     1        31         0     4.0           BUF           NYJ     1\n",
              "3     1         9        16     4.0           CHI            GB     1\n",
              "4     1        27        21     4.5           CIN           SEA     1"
            ],
            "text/html": [
              "\n",
              "  <div id=\"df-48c5cc18-d032-410a-bda4-56661f535911\">\n",
              "    <div class=\"colab-df-container\">\n",
              "      <div>\n",
              "<style scoped>\n",
              "    .dataframe tbody tr th:only-of-type {\n",
              "        vertical-align: middle;\n",
              "    }\n",
              "\n",
              "    .dataframe tbody tr th {\n",
              "        vertical-align: top;\n",
              "    }\n",
              "\n",
              "    .dataframe thead th {\n",
              "        text-align: right;\n",
              "    }\n",
              "</style>\n",
              "<table border=\"1\" class=\"dataframe\">\n",
              "  <thead>\n",
              "    <tr style=\"text-align: right;\">\n",
              "      <th></th>\n",
              "      <th>home</th>\n",
              "      <th>favorite</th>\n",
              "      <th>underdog</th>\n",
              "      <th>spread</th>\n",
              "      <th>favorite.name</th>\n",
              "      <th>underdog.name</th>\n",
              "      <th>week</th>\n",
              "    </tr>\n",
              "  </thead>\n",
              "  <tbody>\n",
              "    <tr>\n",
              "      <th>0</th>\n",
              "      <td>1</td>\n",
              "      <td>21</td>\n",
              "      <td>13</td>\n",
              "      <td>2.0</td>\n",
              "      <td>TB</td>\n",
              "      <td>MIN</td>\n",
              "      <td>1</td>\n",
              "    </tr>\n",
              "    <tr>\n",
              "      <th>1</th>\n",
              "      <td>1</td>\n",
              "      <td>27</td>\n",
              "      <td>0</td>\n",
              "      <td>9.5</td>\n",
              "      <td>ATL</td>\n",
              "      <td>NO</td>\n",
              "      <td>1</td>\n",
              "    </tr>\n",
              "    <tr>\n",
              "      <th>2</th>\n",
              "      <td>1</td>\n",
              "      <td>31</td>\n",
              "      <td>0</td>\n",
              "      <td>4.0</td>\n",
              "      <td>BUF</td>\n",
              "      <td>NYJ</td>\n",
              "      <td>1</td>\n",
              "    </tr>\n",
              "    <tr>\n",
              "      <th>3</th>\n",
              "      <td>1</td>\n",
              "      <td>9</td>\n",
              "      <td>16</td>\n",
              "      <td>4.0</td>\n",
              "      <td>CHI</td>\n",
              "      <td>GB</td>\n",
              "      <td>1</td>\n",
              "    </tr>\n",
              "    <tr>\n",
              "      <th>4</th>\n",
              "      <td>1</td>\n",
              "      <td>27</td>\n",
              "      <td>21</td>\n",
              "      <td>4.5</td>\n",
              "      <td>CIN</td>\n",
              "      <td>SEA</td>\n",
              "      <td>1</td>\n",
              "    </tr>\n",
              "  </tbody>\n",
              "</table>\n",
              "</div>\n",
              "      <button class=\"colab-df-convert\" onclick=\"convertToInteractive('df-48c5cc18-d032-410a-bda4-56661f535911')\"\n",
              "              title=\"Convert this dataframe to an interactive table.\"\n",
              "              style=\"display:none;\">\n",
              "        \n",
              "  <svg xmlns=\"http://www.w3.org/2000/svg\" height=\"24px\"viewBox=\"0 0 24 24\"\n",
              "       width=\"24px\">\n",
              "    <path d=\"M0 0h24v24H0V0z\" fill=\"none\"/>\n",
              "    <path d=\"M18.56 5.44l.94 2.06.94-2.06 2.06-.94-2.06-.94-.94-2.06-.94 2.06-2.06.94zm-11 1L8.5 8.5l.94-2.06 2.06-.94-2.06-.94L8.5 2.5l-.94 2.06-2.06.94zm10 10l.94 2.06.94-2.06 2.06-.94-2.06-.94-.94-2.06-.94 2.06-2.06.94z\"/><path d=\"M17.41 7.96l-1.37-1.37c-.4-.4-.92-.59-1.43-.59-.52 0-1.04.2-1.43.59L10.3 9.45l-7.72 7.72c-.78.78-.78 2.05 0 2.83L4 21.41c.39.39.9.59 1.41.59.51 0 1.02-.2 1.41-.59l7.78-7.78 2.81-2.81c.8-.78.8-2.07 0-2.86zM5.41 20L4 18.59l7.72-7.72 1.47 1.35L5.41 20z\"/>\n",
              "  </svg>\n",
              "      </button>\n",
              "      \n",
              "  <style>\n",
              "    .colab-df-container {\n",
              "      display:flex;\n",
              "      flex-wrap:wrap;\n",
              "      gap: 12px;\n",
              "    }\n",
              "\n",
              "    .colab-df-convert {\n",
              "      background-color: #E8F0FE;\n",
              "      border: none;\n",
              "      border-radius: 50%;\n",
              "      cursor: pointer;\n",
              "      display: none;\n",
              "      fill: #1967D2;\n",
              "      height: 32px;\n",
              "      padding: 0 0 0 0;\n",
              "      width: 32px;\n",
              "    }\n",
              "\n",
              "    .colab-df-convert:hover {\n",
              "      background-color: #E2EBFA;\n",
              "      box-shadow: 0px 1px 2px rgba(60, 64, 67, 0.3), 0px 1px 3px 1px rgba(60, 64, 67, 0.15);\n",
              "      fill: #174EA6;\n",
              "    }\n",
              "\n",
              "    [theme=dark] .colab-df-convert {\n",
              "      background-color: #3B4455;\n",
              "      fill: #D2E3FC;\n",
              "    }\n",
              "\n",
              "    [theme=dark] .colab-df-convert:hover {\n",
              "      background-color: #434B5C;\n",
              "      box-shadow: 0px 1px 3px 1px rgba(0, 0, 0, 0.15);\n",
              "      filter: drop-shadow(0px 1px 2px rgba(0, 0, 0, 0.3));\n",
              "      fill: #FFFFFF;\n",
              "    }\n",
              "  </style>\n",
              "\n",
              "      <script>\n",
              "        const buttonEl =\n",
              "          document.querySelector('#df-48c5cc18-d032-410a-bda4-56661f535911 button.colab-df-convert');\n",
              "        buttonEl.style.display =\n",
              "          google.colab.kernel.accessAllowed ? 'block' : 'none';\n",
              "\n",
              "        async function convertToInteractive(key) {\n",
              "          const element = document.querySelector('#df-48c5cc18-d032-410a-bda4-56661f535911');\n",
              "          const dataTable =\n",
              "            await google.colab.kernel.invokeFunction('convertToInteractive',\n",
              "                                                     [key], {});\n",
              "          if (!dataTable) return;\n",
              "\n",
              "          const docLinkHtml = 'Like what you see? Visit the ' +\n",
              "            '<a target=\"_blank\" href=https://colab.research.google.com/notebooks/data_table.ipynb>data table notebook</a>'\n",
              "            + ' to learn more about interactive tables.';\n",
              "          element.innerHTML = '';\n",
              "          dataTable['output_type'] = 'display_data';\n",
              "          await google.colab.output.renderOutput(dataTable, element);\n",
              "          const docLink = document.createElement('div');\n",
              "          docLink.innerHTML = docLinkHtml;\n",
              "          element.appendChild(docLink);\n",
              "        }\n",
              "      </script>\n",
              "    </div>\n",
              "  </div>\n",
              "  "
            ]
          },
          "metadata": {},
          "execution_count": 2
        }
      ]
    },
    {
      "cell_type": "code",
      "source": [
        "outcome = np.array(data['favorite'] - data['underdog']) # Favourite wins if outcome > 0, else loses \n",
        "point_spread = np.array(data['spread']) # Spread among the teams\n",
        "\n",
        "# Plotting Outcome Vs Point Spread\n",
        "plt.figure(figsize=(6,4))\n",
        "plt.scatter(point_spread +  0.2*np.random.rand((point_spread.shape[0])) - 0.1,\n",
        "            outcome + 0.4*np.random.rand((outcome.shape[0])) - 0.2, s=3)\n",
        "plt.xlabel('Point spread')\n",
        "plt.ylabel('Outcome')\n",
        "plt.title('Outcome Vs Point spread')\n",
        "plt.show()\n",
        "print('Number of games in dataset = ' + str(len(outcome)))"
      ],
      "metadata": {
        "colab": {
          "base_uri": "https://localhost:8080/",
          "height": 312
        },
        "id": "zN1roQ3GAqwf",
        "outputId": "bc58a9c5-3863-4dcc-e4a3-4eb1f1fcf3f6"
      },
      "execution_count": 3,
      "outputs": [
        {
          "output_type": "display_data",
          "data": {
            "text/plain": [
              "<Figure size 432x288 with 1 Axes>"
            ],
            "image/png": "[encoded data removed]"
          },
          "metadata": {
            "needs_background": "light"
          }
        },
        {
          "output_type": "stream",
          "name": "stdout",
          "text": [
            "Number of games in dataset = 2240\n"
          ]
        }
      ]
    },
    {
      "cell_type": "markdown",
      "source": [
        "> ## $1.1$ Probabilities through relative frequencies"
      ],
      "metadata": {
        "id": "LtzZU4pgL_Jh"
      }
    },
    {
      "cell_type": "code",
      "source": [
        "# P1: Pr(Favorite wins | point spread = 8)\n",
        "\n",
        "i=0\n",
        "j=0\n",
        "\n",
        "for out, ps in zip(outcome, point_spread):\n",
        "    if ps==8 and out>0: # Counting Favourite wins and point spread= 8\n",
        "        i+=1\n",
        "    if ps==8: # Counting point spread= 8\n",
        "        j+=1\n",
        "        \n",
        "P1 = i / j\n",
        "print('Total no. of games in the dataset for P1 case= ' + str(j))\n",
        "print('P1 = ' + str(P1))"
      ],
      "metadata": {
        "colab": {
          "base_uri": "https://localhost:8080/"
        },
        "id": "L0Eb_loWBZYH",
        "outputId": "06cbfb87-7c30-4730-9ad9-52814f8b22d4"
      },
      "execution_count": 4,
      "outputs": [
        {
          "output_type": "stream",
          "name": "stdout",
          "text": [
            "Total no. of games in the dataset for P1 case= 49\n",
            "P1 = 0.7551020408163265\n"
          ]
        }
      ]
    },
    {
      "cell_type": "code",
      "source": [
        "# P2: Pr(Favorite wins by at least 8 points | point spread = 8)\n",
        "\n",
        "i=0\n",
        "j=0\n",
        "\n",
        "for out, ps in zip(outcome, point_spread):\n",
        "    if ps==8 and out>=8:\n",
        "        i+=1\n",
        "    if ps==8:\n",
        "        j+=1\n",
        "        \n",
        "P2 = i / j\n",
        "\n",
        "print('Total no. of games in the dataset for P2 case= ' + str(j))\n",
        "print('P2 = ' + str(P2))"
      ],
      "metadata": {
        "colab": {
          "base_uri": "https://localhost:8080/"
        },
        "id": "VGbUa33oB0SP",
        "outputId": "21386fb8-652e-4ccd-bb81-8e678ec39b6e"
      },
      "execution_count": 5,
      "outputs": [
        {
          "output_type": "stream",
          "name": "stdout",
          "text": [
            "Total no. of games in the dataset for P2 case= 49\n",
            "P2 = 0.4489795918367347\n"
          ]
        }
      ]
    },
    {
      "cell_type": "code",
      "source": [
        "# P3: Pr(Favorite wins by at least 8 points | point spread = 8 and favorite wins)\n",
        "\n",
        "i=0\n",
        "j=0\n",
        "\n",
        "for out, ps in zip(outcome, point_spread):\n",
        "    if ps==8 and out>=8:\n",
        "        i+=1\n",
        "    if ps==8 and out>0:\n",
        "        j+=1\n",
        "        \n",
        "P3 = i / j\n",
        "print('Total no. of games in the dataset for P3 case= ' + str(j))\n",
        "print('P3 = ' + str(P3))"
      ],
      "metadata": {
        "colab": {
          "base_uri": "https://localhost:8080/"
        },
        "id": "XtE90ud9C8VK",
        "outputId": "aa293bde-08e6-4db5-855c-f7eb3c73011c"
      },
      "execution_count": 6,
      "outputs": [
        {
          "output_type": "stream",
          "name": "stdout",
          "text": [
            "Total no. of games in the dataset for P3 case= 37\n",
            "P3 = 0.5945945945945946\n"
          ]
        }
      ]
    },
    {
      "cell_type": "markdown",
      "source": [
        "> ## $1.2$ Probabilities through approximated distribution"
      ],
      "metadata": {
        "id": "dIXnkC4tNHQF"
      }
    },
    {
      "cell_type": "code",
      "source": [
        "y = np.array(data['favorite'] - data['underdog']) # y = outcome, Favourite wins if y >0\n",
        "x = np.array(data['spread']) # x = Spread\n",
        "z = y - x # Z is positive if Favourite wins with more points than point spread\n",
        "\n",
        "# Plotting z vs x\n",
        "plt.figure(figsize=(6,4))\n",
        "plt.scatter(x +  0.2*np.random.rand((x.shape[0])) - 0.1, \n",
        "            z + 0.4*np.random.rand((z.shape[0])) - 0.2, s=3)\n",
        "\n",
        "plt.xlabel('x')\n",
        "plt.ylabel('z = y - x')\n",
        "plt.title('z vs x')\n",
        "plt.show()"
      ],
      "metadata": {
        "colab": {
          "base_uri": "https://localhost:8080/",
          "height": 295
        },
        "id": "Bpxbav6GDXxY",
        "outputId": "cf4c7b43-740e-43bc-8108-27488d9e0f29"
      },
      "execution_count": 7,
      "outputs": [
        {
          "output_type": "display_data",
          "data": {
            "text/plain": [
              "<Figure size 432x288 with 1 Axes>"
            ],
            "image/png": "[encoded data removed]"
          },
          "metadata": {
            "needs_background": "light"
          }
        }
      ]
    },
    {
      "cell_type": "markdown",
      "source": [
        "> ### **Remark:** \n",
        "\n",
        "From the previous plot it is reasonable to approximate Z with a guassian distribution with mean around $z=0$."
      ],
      "metadata": {
        "id": "aAeGbOyBQ4vn"
      }
    },
    {
      "cell_type": "code",
      "source": [
        "sample_mean = np.mean(z)\n",
        "sample_std_dev = np.std(z)\n",
        "\n",
        "print(\"Sample mean = \" + str(sample_mean))\n",
        "print(\"Sample std dev = \" + str(sample_std_dev))\n",
        "\n",
        "# Approximation of z through a gaussian distribution\n",
        "dist = norm(loc=sample_mean, scale=sample_std_dev)\n",
        "\n",
        "# plotting histogram and approximated Gaussian\n",
        "plt.figure()\n",
        "n, bins, patches = plt.hist(z, 50, density=True, facecolor='g', alpha=0.5)\n",
        "plt.scatter(z, dist.pdf(z), color='black', label= 'Gaussian Approximation of $z$')\n",
        "plt.xlabel('z = y - x')\n",
        "plt.ylabel('Probability/ frequencies of z')\n",
        "plt.grid(True)\n",
        "plt.legend()\n",
        "plt.show()"
      ],
      "metadata": {
        "colab": {
          "base_uri": "https://localhost:8080/",
          "height": 314
        },
        "id": "shJ2AVhNDe4O",
        "outputId": "4ee368d0-db2c-4662-c099-bf4a406808a9"
      },
      "execution_count": 8,
      "outputs": [
        {
          "output_type": "stream",
          "name": "stdout",
          "text": [
            "Sample mean = 0.22589285714285715\n",
            "Sample std dev = 13.687140377113334\n"
          ]
        },
        {
          "output_type": "display_data",
          "data": {
            "text/plain": [
              "<Figure size 432x288 with 1 Axes>"
            ],
            "image/png": "[encoded data removed]"
          },
          "metadata": {
            "needs_background": "light"
          }
        }
      ]
    },
    {
      "cell_type": "markdown",
      "source": [
        "* $\\textrm{P1} =  \\textrm{Pr(Favorite wins | point spread} = 8) = \\textrm{Pr}(y > 0| x=8) = \\textrm{Pr}(z+x>0|x=8) = \\textrm{Pr}(z>-x | x=8) = 1-\\textrm{Pr}(z<= -x|x=8)= 1-\\textrm{Pr}(z<= 8) = 1 - cdf_z (-8) $\n",
        "\n",
        "* $\\textrm{P2} =  \\textrm{Pr(Favorite wins by atleast 8 points| point spread} = 8) = \\textrm{Pr}(y >= 8| x=8) = \\textrm{Pr}(z+x>=8|x=8) = \\textrm{Pr}(z>= -x+8 | x=8) = 1-\\textrm{Pr}(z< -x+8|x=8)= 1-\\textrm{Pr}(z< 0) \\approx 1 - cdf_z (0) $\n",
        "\n",
        "* $\\textrm{P3} =  \\textrm{Pr(Favorite wins by atleast 8 points| point spread = 8 and favourite wins}) = \\textrm{Pr}(y >= 8| x=8 \\cap y>0) = \\textrm{Pr}(z + x >= 8| x=8 \\cap z + x >0) = \\textrm{Pr}(z + 8 >= 8| z + 8 >0) = \\textrm{Pr}(z >= 0| z > - 8) = 1- \\textrm{Pr}(z < 0| z > - 8)= 1- (\\textrm{Pr}(z < 0)- \\textrm{Pr}(z < -8)) = 1- \\textrm{Pr}(z < 0)+ \\textrm{Pr}(z < -8) \\approx 1 - cdf_z(0) + cdf_z(-8) $\n"
      ],
      "metadata": {
        "id": "RCvydVgOyHut"
      }
    },
    {
      "cell_type": "code",
      "source": [
        "P1_approx = 1 - dist.cdf(-8)\n",
        "P2_approx = 1 - dist.cdf(0)\n",
        "P3_approx = 1 - dist.cdf(0) + dist.cdf(-8)\n",
        "\n",
        "print('P1 (Guassian Approx.)= ' + str(P1_approx))\n",
        "print('P2 (Guassian Approx.)= ' + str(P2_approx))\n",
        "print('P3 (Guassian Approx.)= ' + str(P3_approx))"
      ],
      "metadata": {
        "colab": {
          "base_uri": "https://localhost:8080/"
        },
        "id": "WGVNM50XIeNs",
        "outputId": "ba537b17-bf2e-476c-da7f-61db45d5c167"
      },
      "execution_count": 9,
      "outputs": [
        {
          "output_type": "stream",
          "name": "stdout",
          "text": [
            "P1 (Guassian Approx.)= 0.7260780966161547\n",
            "P2 (Guassian Approx.)= 0.5065838530278768\n",
            "P3 (Guassian Approx.)= 0.780505756411722\n"
          ]
        }
      ]
    },
    {
      "cell_type": "markdown",
      "source": [
        "> ## Observation among relative and approximated probabilities:\n",
        "\n",
        "* $P1$' s are relatively closer compared to other probabilities.\n",
        "* $P2$' s differs more than that of $P1$.\n",
        "* $P3$' s differs the most of all the probabilities.\n",
        "\n",
        "These variation in evaluation of same quantities can be associated with the error in approximation of $z$ using a standard gaussian to that of true distribution (which is not known). \n",
        "\n",
        "Also, it can be a reason that we need more data points to make better inference. $P1$ and $P2$ cases has a total of $49$ games whereas $P3$ case has only $37$ games to consider.\n"
      ],
      "metadata": {
        "id": "K5985EUVFyml"
      }
    },
    {
      "cell_type": "markdown",
      "metadata": {
        "id": "kbnJXBX5wL9H"
      },
      "source": [
        "# Exercise 2\n",
        "\n",
        "A random sample of n students is drawn from a large population, and their weights are measured. The average weight of the n sampled students is $y^{mean} = 70$ Kg. We assume that the weights in the population are normally distributed with unknown mean $\\theta$, and known standard deviation 10 Kg. Suppose your prior distribution for $\\theta$ is normal with mean 80 Kg and standard deviation 15 Kg.\n",
        "\n",
        "**1) Give the posterior distribution of $\\theta$ (the answer will be a function of n).**\n",
        "\n",
        "**2) For n=10, and n=100, give a 95% posterior interval for $\\theta$.**"
      ]
    },
    {
      "cell_type": "markdown",
      "source": [
        "> # Exercise $2.1$ Solution:\n",
        "## Problem Definition:\n",
        "**Given Sample:** \n",
        "* $y = \\{ y_1, y_2, \\ldots y_n \\}, \\hspace{2 mm} \\forall i, y_i \\sim \\mathcal{N}(\\theta, \\sigma^2)$, where $\\sigma= 10$\n",
        "* $\\bar{y} = \\frac{\\sum_{i=1}^{n}y_i}{n}$ = $y^{mean} = 70$ Kg.\n",
        "* Prior distribution of $\\theta$, $p(\\theta) = \\mathcal{N}(\\mu_0, \\tau_0^2)$, where $\\mu_{0}= 80$ and $\\tau_{0}= 15$\n",
        "\n",
        "**Goal:**\n",
        "Find posterior distribution of $\\theta:$ $p(\\theta | y)$\n",
        "\n",
        "From Baye's Theorem:\n",
        "$$ p(\\theta | y) = \\frac{p(y|\\theta)p(\\theta)}{p(y)} .$$\n",
        "\n",
        "Since $p(y)$ is a normalisation factor. We get $p(\\theta | y) \\propto p(y|\\theta)p(\\theta).$\n",
        "\n",
        "Therefore, we can have $p(\\theta | y) \\sim p(y|\\theta)p(\\theta)$\n",
        "\n",
        "From the lecture we have the following result:\n",
        "### Multiple Gaussian obervations\n",
        "\n",
        "The multiple Gaussian distributed observations of $y = y_1, y_2, \\ldots y_n$. By assuming independent property and exchangeability among the sample observations, we have: \n",
        "\n",
        "$$p(y|\\theta) = p(y_1, y_2, \\ldots y_n|\\theta) = p(y_1|\\theta)p(y_2|\\theta)\\ldots p(y_n|\\theta).$$\n",
        "\n",
        "As, $p(y_i|\\theta) = \\mathcal{N}(\\theta, \\sigma^2)$\n",
        "\n",
        "$$p(y|\\theta) = \\frac{1}{(2\\pi)^{\\frac{n}{2}}\\sigma^n}\\exp(\\frac{-1}{2\\sigma^2}\\sum_{i=1}^n (y_i-\\theta)^2).$$ \n",
        "\n",
        "$$p(y|\\theta)p(\\theta) \\propto \\exp[-\\frac{1}{2\\sigma^2}\\sum_{i=1}^n (y_i-\\theta)^2 - \\frac{1}{2\\tau_0^2}(\\theta-\\mu_0)^2]$$\n",
        "\n",
        "By re-writing $$\\sum_{i}(y_i-\\theta)^2 = \\sum_i y_i^2 - 2 \\theta \\sum_i y_i + n\\theta^2.$$ and developing for the above equation we get: \n",
        "\n",
        "$$p(y|\\theta) \\sim \\exp\\big[\\frac{-1}{2}[ \\theta^2(\\frac{n}{\\sigma^2} + \\frac{1}{\\tau_0^2}) -2\\theta (\\frac{\\sum_i y_i}{\\sigma^2} + \\frac{\\mu_0}{\\tau_0^2}) +(\\frac{\\sum_i y_i^2}{\\sigma^2}+ \\frac{\\mu_0^2}{\\tau_0^2})]\\big]$$\n",
        "$$ p(y|\\theta) \\sim \\exp\\left( -\\frac{1}{2} [l \\theta^2  - 2 m \\theta +  n]\\right),$$\n",
        "\n",
        "with\n",
        "\n",
        "$$ l = \\frac{n}{\\sigma^2} + \\frac{1}{\\tau_0^2},$$\n",
        "\n",
        "$$ m =  \\frac{n \\bar{y}}{\\sigma^2} + \\frac{\\mu_0}{\\tau_0^2},(using \\hspace{2mm} \\sum_i y_i= n\\bar{y})$$\n",
        "\n",
        "and\n",
        "\n",
        "$$ n = \\frac{y^2 }{\\sigma^2} +  \\frac{\\mu_0^2}{\\tau_0^2}.$$ \n",
        "\n",
        "It is already shown in the lecture that the posterior takes the form $p(\\theta|y)\\sim \\mathcal{N}(\\mu_n,\\sigma_n^2)$, (conjugate) with:\n",
        "\n",
        "\n",
        "$$ \\sigma_n^2 = \\frac{1}{l}= \\frac{1}{\\frac{n}{\\sigma^2} + \\frac{1}{\\tau_0^2}}= \\frac{1}{\\frac{n}{10^2} + \\frac{1}{15^2}}= \\frac{900}{9n + 4},$$\n",
        "\n",
        "and,\n",
        "\n",
        "$$ \\mu_n = \\frac{m}{l}= \\frac{\\frac{n \\bar{y}}{\\sigma^2} + \\frac{\\mu_0}{\\tau_0^2}}{\\frac{n}{\\sigma^2} + \\frac{1}{\\tau_0^2}}= \\frac{\\frac{70n}{10^2} + \\frac{80}{15^2}}{\\frac{n}{10^2} + \\frac{1}{15^2}}= (\\frac{7n}{10} + \\frac{16}{45})*(\\frac{900}{9n + 4})$$"
      ],
      "metadata": {
        "id": "SKDIav6Jipes"
      }
    },
    {
      "cell_type": "markdown",
      "source": [
        "> # Exercise $2.2$ Solution:\n",
        "\n",
        "## $2.2.1$ For $n = 10$:\n",
        "\n",
        "$p(\\theta|y)\\sim \\mathcal{N}(\\mu_{10},\\sigma_{10}^2)$:\n",
        "\n",
        "\n",
        "$$ \\sigma_{10}^2 = \\frac{1}{\\frac{10}{10^2} + \\frac{1}{15^2}}= 9.57,$$\n",
        "\n",
        "and,\n",
        "\n",
        "$$ \\mu_{10} = \\frac{\\frac{10*70}{10^2} + \\frac{80}{15^2}}{\\frac{10}{10^2} + \\frac{1}{15^2}}= 70.43,$$\n",
        "\n",
        "## $2.2.2$ For $n = 100$:\n",
        "\n",
        "$p(\\theta|y)\\sim \\mathcal{N}(\\mu_{100},\\sigma_{100}^2)$:\n",
        "\n",
        "\n",
        "$$ \\sigma_{100}^2 = \\frac{1}{\\frac{100}{10^2} + \\frac{1}{15^2}}= 1,$$\n",
        "\n",
        "and,\n",
        "\n",
        "$$ \\mu_{100} = \\frac{\\frac{100*70}{10^2} + \\frac{80}{15^2}}{\\frac{100}{10^2} + \\frac{1}{15^2}}= 70.04,$$\n",
        "\n",
        "### Posterior Inference: (Same inference can be made by the visual graph below)\n",
        "\n",
        "* The posterior distribution in both cases has a consistent mean around $70 Kg$ (approx.) and found to be same as that of empirical mean of the total samples.\n",
        "*The posterior variance in either cases ($9.57$ & $1$) is far lower than that of both quantities assumed for population and prior distribution ($\\sigma^2= 100, \\hspace{1 mm} \\tau_0^2= 225$). Therefore now we have a better idea and high confidence about the data distribution.\n",
        "* It is also seen as we observe more data $10$ vs. $100$ samples, our variance decreased significantly from $9.57$ to $1$ which shows more data helps in better understanding of posterior distribution."
      ],
      "metadata": {
        "id": "sLPV41_7OlF8"
      }
    },
    {
      "cell_type": "code",
      "source": [
        "\n",
        "theta = np.arange(0,140,1)\n",
        "prior_mean = 80\n",
        "prior_std_dev = 15\n",
        "prior_dist = norm(loc=prior_mean, scale=prior_std_dev)\n",
        "\n",
        "posterior_mean_10 = 70.43\n",
        "posterior_std_dev_10 = sqrt(9.57)\n",
        "posterior_dist_10 = norm(loc=posterior_mean_10, scale=posterior_std_dev_10)\n",
        "\n",
        "posterior_mean_100 = 70.04\n",
        "posterior_std_dev_100 = sqrt(1)\n",
        "posterior_dist_100 = norm(loc=posterior_mean_100, scale=posterior_std_dev_100)\n",
        "\n",
        "#plotting distribution\n",
        "\n",
        "mean_prior, var_prior, skew_prior, kurt_prior = prior_dist.stats(moments='mvsk')\n",
        "mean_posterior_10, var_posterior_10, skew_posterior_10, kurt_posterior_10 = posterior_dist_10.stats(moments='mvsk')\n",
        "mean_posterior_100, var_posterior_100, skew_posterior_100, kurt_posterior_100 = posterior_dist_100.stats(moments='mvsk')\n",
        "\n",
        "\n",
        "plt.plot(theta,prior_dist.pdf(theta), label= 'Prior')\n",
        "plt.plot(theta,posterior_dist_10.pdf(theta), label= 'Posterior with n=10')\n",
        "plt.plot(theta,posterior_dist_100.pdf(theta), label= 'Posterior with n=100')\n",
        "\n",
        "plt.title('Prior and Posterior distributions of'r' $\\theta$')\n",
        "plt.ylabel(r'$pdf$')\n",
        "plt.xlabel('theta')\n",
        "plt.legend()\n",
        "plt.show()"
      ],
      "metadata": {
        "colab": {
          "base_uri": "https://localhost:8080/",
          "height": 296
        },
        "id": "jYWaGYilpL4q",
        "outputId": "fddb3118-e241-4336-acec-7fba721d21ba"
      },
      "execution_count": 10,
      "outputs": [
        {
          "output_type": "display_data",
          "data": {
            "text/plain": [
              "<Figure size 432x288 with 1 Axes>"
            ],
            "image/png": "[encoded data removed]"
          },
          "metadata": {
            "needs_background": "light"
          }
        }
      ]
    },
    {
      "cell_type": "markdown",
      "source": [
        "> ## 2.2: **95%** posterior interval for $\\theta$"
      ],
      "metadata": {
        "id": "DjoQYdlLV29x"
      }
    },
    {
      "cell_type": "code",
      "source": [
        "sample_counter = [0, 1]\n",
        "\n",
        "posterior_mean = [posterior_mean_10, posterior_mean_100]\n",
        "posterior_std_dev = [posterior_std_dev_10, posterior_std_dev_100]\n",
        "\n",
        "results = []\n",
        "\n",
        "for i in sample_counter:\n",
        "    sample_posterior = norm.rvs(loc= posterior_mean[i], scale= posterior_std_dev[i], size=500) \n",
        "    sample_stats = np.quantile(sample_posterior, [0.025, 0.5, 0.975])\n",
        "    results.append([norm.mean(loc= posterior_mean[i], scale= posterior_std_dev[i]), norm.var(loc= posterior_mean[i], scale= posterior_std_dev[i]), sample_stats[1], [sample_stats[0], sample_stats[2]]])\n",
        "\n",
        "print(pd.DataFrame(results, columns=['Mean', 'Variance', 'Median','95% posterior CI']))"
      ],
      "metadata": {
        "colab": {
          "base_uri": "https://localhost:8080/"
        },
        "id": "2sEbGwInvaIY",
        "outputId": "8b4b737d-5bf3-4252-a3a1-63986c83ecd0"
      },
      "execution_count": 11,
      "outputs": [
        {
          "output_type": "stream",
          "name": "stdout",
          "text": [
            "    Mean  Variance     Median                        95% posterior CI\n",
            "0  70.43      9.57  70.253724  [64.08072419037397, 76.95639739282267]\n",
            "1  70.04      1.00  70.043067  [67.95304478318538, 71.96343355951538]\n"
          ]
        }
      ]
    },
    {
      "cell_type": "markdown",
      "metadata": {
        "id": "vhXgY5aSwL9J"
      },
      "source": [
        "# Exercise 3\n",
        "\n",
        "Suppose your prior distribution for $\\theta$, the proportion of Californians who support the death penalty, is Beta with mean 0.6 and standard deviation 0.3.\n",
        "\n",
        "**1) Determine the parameters $\\alpha$ and $\\beta$ of your prior distribution and plot it.**\n",
        "\n",
        "**2) A random sample of 1000 Californians is taken, 65% support the death peanlty. What are your posterior mean and variance ? Plot the posterior density function.**\n",
        "\n",
        "**3) Examine the impact of the prior parameters on the posterior distribution through different statistics (i.e mean, median, 95% posterior interval).**"
      ]
    },
    {
      "cell_type": "markdown",
      "source": [
        "> # Exercise 3 Solution:\n",
        "\n",
        "Prior Distribution of $\\theta$: $\\theta \\sim\\textrm{Beta}(\\alpha,\\beta)$\n",
        "\n",
        "\n"
      ],
      "metadata": {
        "id": "OsM33wSOAz_2"
      }
    },
    {
      "cell_type": "markdown",
      "source": [
        "> ## Exercise 3_1 Solution:\n",
        "\n",
        "Given $E(\\theta)= 0.6$ and $Var(\\theta)= 0.3* 0.3= 0.09$ \n",
        "\n",
        "$E(\\theta)=\\frac{\\alpha}{\\alpha+\\beta}$, $Var(\\theta)=\\frac{\\alpha\\beta}{(\\alpha+\\beta)^2(\\alpha+\\beta+1)}$\n",
        "\n",
        "Taking $\\beta = \\alpha * (\\frac{1}{E(\\theta)} - 1)$ and plugging this value in $Var(\\theta)$ and then by solving we get $$\\alpha = \\frac{(1-E(\\theta))* (E(\\theta))^2}{Var(\\theta)} - E(\\theta)= \\frac{(1-0.6)* (0.6)^2}{0.09} - 0.6= 1$$ This results in $\\alpha = 1$. Using this value in the $\\beta$ equation above gives:$$\\beta = \\alpha * (\\frac{1}{E(\\theta)} - 1)= 1 * (\\frac{1}{0.6} - 1)= \\frac{2}{3}$$\n",
        "\n",
        "Therefore our Prior Distribution of $\\theta$: $\\theta \\sim\\textrm{Beta}(1,2/3)$"
      ],
      "metadata": {
        "id": "ZQuTR23qLJMx"
      }
    },
    {
      "cell_type": "markdown",
      "source": [
        "> ### Plot of Prior Beta Distribution of $\\theta$: $\\theta \\sim\\textrm{Beta}(1,2/3)$"
      ],
      "metadata": {
        "id": "VoEPXoll6314"
      }
    },
    {
      "cell_type": "code",
      "source": [
        "from  scipy.stats import beta\n",
        "%matplotlib inline\n",
        "\n",
        "theta = np.arange(0,1,.01)\n",
        "a = 1\n",
        "b = 2/3\n",
        "# Creating the Prior Beta \n",
        "prior = beta(a, b)\n",
        "mean, var, skew, kurt = beta.stats(a, b, moments='mvsk')\n",
        "\n",
        "\n",
        "plt.plot(theta,prior.pdf(theta))\n",
        "plt.title('Prior distribution (Beta)''\\n'r'$\\alpha=$' + str(a) + r'$, \\beta=$' + str(round(b,2))+'\\n' + r'Mean='+ str(np.round(mean,2))+ r', Variance='+ str(np.round(var,2)))\n",
        "plt.ylabel(r'$Beta(\\theta|\\alpha,\\beta)$')\n",
        "plt.xlabel('theta')\n",
        "plt.show()"
      ],
      "metadata": {
        "colab": {
          "base_uri": "https://localhost:8080/",
          "height": 329
        },
        "id": "tcIuhpyC7LQl",
        "outputId": "0d7baed1-eb48-4956-fad5-e2f9ee06a947"
      },
      "execution_count": 12,
      "outputs": [
        {
          "output_type": "display_data",
          "data": {
            "text/plain": [
              "<Figure size 432x288 with 1 Axes>"
            ],
            "image/png": "[encoded data removed]"
          },
          "metadata": {
            "needs_background": "light"
          }
        }
      ]
    },
    {
      "cell_type": "markdown",
      "source": [
        "> ## Exercise 3_2 Solution:\n",
        "\n",
        "Here the Prior follows Beta:\n",
        "$$p(\\theta) = Beta(\\alpha,\\beta) \\propto \\theta^{\\alpha-1}(1-\\theta)^{\\beta-1},$$\n",
        "\n",
        "and Likelihood follows a Binomial Sampling model:\n",
        "$$ p(y|n, \\theta) = {{n}\\choose{y}} \\theta^y(1-\\theta)^{n-y} .$$\n",
        "\n",
        "With $n= 1000$ and $y = 1000* 0.65 = 650$\n",
        "\n",
        "$$p(y|\\theta) \\propto \\theta^y (1-\\theta)^{n-y},$$\n",
        "\n",
        "We already have seen in the lecture that in this kind of model both posterior and prior have same form of distribution, since the prior is the conjugate of the likelihood.\n",
        "\n",
        "$$p(\\theta|y) = p(y|\\theta)p(\\theta) \\propto \\theta^{y+\\alpha-1}(1-\\theta)^{n+\\beta-y-1} \\propto Beta(\\theta|\\alpha+y,n+\\beta-y)$$\n",
        "\n",
        "Hence, the posterior distribution is (proportional to):\n",
        "$$p(\\theta|y) = Beta(\\alpha + y,n + \\beta - y) = Beta(651 , 350.67)$$\n",
        "\n",
        "**Posterior mean:**\n",
        "$$E(\\theta|y)=\\frac{651}{651+350.67}= 0.65$$\n",
        "**Posterior variance:**\n",
        "$$Var(\\theta)=\\frac{651* 350.67}{(651+ 350.67)^2(651+ 350.67+1)}= 0.00023$$"
      ],
      "metadata": {
        "id": "nzOGy4xa8YH4"
      }
    },
    {
      "cell_type": "markdown",
      "source": [
        "> ### Plot of Posterior Density function of $p(\\theta|y)$: $\\theta|y \\sim\\textrm{Beta}(651,350.67)$"
      ],
      "metadata": {
        "id": "n6Fm_hHoK6No"
      }
    },
    {
      "cell_type": "code",
      "source": [
        "from  scipy.stats import beta\n",
        "import numpy as np\n",
        "import matplotlib.pyplot as plt\n",
        "import pandas as pd\n",
        "%matplotlib inline\n",
        "\n",
        "theta = np.arange(0,1,.01)\n",
        "a = 651\n",
        "b = 350.67\n",
        "# Creating the Posterior Beta \n",
        "posterior = beta(a, b)\n",
        "mean, var, skew, kurt = beta.stats(a, b, moments='mvsk')\n",
        "\n",
        "\n",
        "plt.plot(theta,posterior.pdf(theta))\n",
        "plt.title('Posterior distribution (Beta)''\\n'r'$\\alpha=$' + str(a) + r'$, \\beta=$' + str(round(b,2))+'\\n' + r'Mean='+ str(np.round(mean,2))+ r', Variance='+ str(np.round(var,5)))\n",
        "plt.ylabel(r'$Beta(\\theta|\\alpha,\\beta)$')\n",
        "plt.xlabel('theta')\n",
        "plt.show()"
      ],
      "metadata": {
        "colab": {
          "base_uri": "https://localhost:8080/",
          "height": 329
        },
        "outputId": "3f0e51af-1e0b-47b6-bff3-a92c19135620",
        "id": "_uYQsJtiZsR-"
      },
      "execution_count": 13,
      "outputs": [
        {
          "output_type": "display_data",
          "data": {
            "text/plain": [
              "<Figure size 432x288 with 1 Axes>"
            ],
            "image/png": "[encoded data removed]"
          },
          "metadata": {
            "needs_background": "light"
          }
        }
      ]
    },
    {
      "cell_type": "markdown",
      "source": [
        "> ### **Observation:**\n",
        "\n",
        "The Prior and Posterior distributions look very different. The prior variance is very high, whereas the posterior has very low variance, which can be good. Interestingly, both distributions have similar mean. Let us investigate if choosing a different prior might yield different results. "
      ],
      "metadata": {
        "id": "lYZI_QG8BTQU"
      }
    },
    {
      "cell_type": "markdown",
      "source": [
        "> ## Exercise 3_3 Solution: Impact of Prior parameters on Posterior Distribution"
      ],
      "metadata": {
        "id": "besbLP1GCzHy"
      }
    },
    {
      "cell_type": "code",
      "source": [
        "n = 1000\n",
        "y = 650\n",
        "\n",
        "alpha_prior = [1,20,60,100]\n",
        "beta_prior = [2/3,10,25,50]\n",
        "pairs = [[ai, bi] for ai in alpha_prior for bi in beta_prior]\n",
        "\n",
        "results = []\n",
        "\n",
        "for a,b in pairs:\n",
        "    posterior_alpha = y + a\n",
        "    posterior_beta = n + b - y\n",
        "    sample_posterior = np.random.beta(posterior_alpha, posterior_beta, size=500) \n",
        "    sample_stats = np.quantile(sample_posterior, [0.025, 0.5, 0.975])\n",
        "    results.append([a,b, posterior_alpha, posterior_beta, a/(a+b), (a*b)/ (((a + b)**2)*(a + b +1)), posterior_alpha/(posterior_alpha+posterior_beta),  (posterior_alpha*posterior_beta)/ (((posterior_alpha + posterior_beta)**2)*(posterior_alpha + posterior_beta +1)), sample_stats[1], [sample_stats[0], sample_stats[2]]])\n",
        "\n",
        "print(pd.DataFrame(results, columns=['Prior alpha', 'Prior beta', 'Posterior alpha', 'Posterior beta','Prior mean', 'Prior Variance', 'Posterior mean', 'Posterior Variance','Posterior median','95% posterior CI']))"
      ],
      "metadata": {
        "colab": {
          "base_uri": "https://localhost:8080/"
        },
        "id": "j7SffN_fMhRx",
        "outputId": "cdca741f-db55-459b-df2b-7158b9a9dbf6"
      },
      "execution_count": 14,
      "outputs": [
        {
          "output_type": "stream",
          "name": "stdout",
          "text": [
            "    Prior alpha  Prior beta  Posterior alpha  Posterior beta  Prior mean  \\\n",
            "0             1    0.666667              651      350.666667    0.600000   \n",
            "1             1   10.000000              651      360.000000    0.090909   \n",
            "2             1   25.000000              651      375.000000    0.038462   \n",
            "3             1   50.000000              651      400.000000    0.019608   \n",
            "4            20    0.666667              670      350.666667    0.967742   \n",
            "5            20   10.000000              670      360.000000    0.666667   \n",
            "6            20   25.000000              670      375.000000    0.444444   \n",
            "7            20   50.000000              670      400.000000    0.285714   \n",
            "8            60    0.666667              710      350.666667    0.989011   \n",
            "9            60   10.000000              710      360.000000    0.857143   \n",
            "10           60   25.000000              710      375.000000    0.705882   \n",
            "11           60   50.000000              710      400.000000    0.545455   \n",
            "12          100    0.666667              750      350.666667    0.993377   \n",
            "13          100   10.000000              750      360.000000    0.909091   \n",
            "14          100   25.000000              750      375.000000    0.800000   \n",
            "15          100   50.000000              750      400.000000    0.666667   \n",
            "\n",
            "    Prior Variance  Posterior mean  Posterior Variance  Posterior median  \\\n",
            "0         0.090000        0.649917            0.000227          0.651289   \n",
            "1         0.006887        0.643917            0.000227          0.645056   \n",
            "2         0.001370        0.634503            0.000226          0.634891   \n",
            "3         0.000370        0.619410            0.000224          0.619786   \n",
            "4         0.001441        0.656434            0.000221          0.657441   \n",
            "5         0.007168        0.650485            0.000221          0.651783   \n",
            "6         0.005368        0.641148            0.000220          0.640398   \n",
            "7         0.002874        0.626168            0.000219          0.627063   \n",
            "8         0.000176        0.669390            0.000208          0.670613   \n",
            "9         0.001725        0.663551            0.000208          0.663614   \n",
            "10        0.002414        0.654378            0.000208          0.654520   \n",
            "11        0.002234        0.639640            0.000207          0.640042   \n",
            "12        0.000065        0.681405            0.000197          0.680874   \n",
            "13        0.000745        0.675676            0.000197          0.676245   \n",
            "14        0.001270        0.666667            0.000197          0.667266   \n",
            "15        0.001472        0.652174            0.000197          0.652306   \n",
            "\n",
            "                            95% posterior CI  \n",
            "0   [0.6176680196227582, 0.6796319189594628]  \n",
            "1   [0.6128363831419039, 0.6711820420841281]  \n",
            "2    [0.6043531036411139, 0.661854973947882]  \n",
            "3   [0.5910081884212246, 0.6490733413832631]  \n",
            "4   [0.6265370671835709, 0.6839012670887631]  \n",
            "5    [0.6222733342111507, 0.679290184754813]  \n",
            "6   [0.6111036357621309, 0.6698257103998267]  \n",
            "7   [0.5971870457575924, 0.6586650084264094]  \n",
            "8   [0.6416658534858727, 0.6967252565292855]  \n",
            "9   [0.6369227953308384, 0.6944952081812155]  \n",
            "10  [0.6270962230939606, 0.6820347767899596]  \n",
            "11  [0.6125965213788369, 0.6660515716566145]  \n",
            "12   [0.6537630089719597, 0.706497427864812]  \n",
            "13  [0.6512632658630523, 0.7027485408319575]  \n",
            "14   [0.640626735569459, 0.6943526681471818]  \n",
            "15  [0.6258462353492965, 0.6780716558758013]  \n"
          ]
        }
      ]
    },
    {
      "cell_type": "markdown",
      "source": [
        "> Observation:\n",
        "\n",
        "It can be clearly seen that the posterior distribution is not very sensitive to the prior distribution i.e., all the posterior median, mean and CI interval are very consistent and compact. This is because the likelihood has dominating impact on posterior than prior distribution because the data seen for any given prior is sufficient to make a solid estimation of the posterior (as $n= 1000$ and  $y= 650$). This is evident by very low variance of posterior compared to that of prior and $95$ % confidence interval is also very small and consistent for all combinations of prior parameters."
      ],
      "metadata": {
        "id": "nHSpZyxVK1md"
      }
    },
    {
      "cell_type": "markdown",
      "metadata": {
        "tags": [],
        "id": "rMZFlXv_wL9K"
      },
      "source": [
        "# Exercise 4\n",
        "\n",
        "**1) Which of the expressions below correspond to the statement: *the probability of rain on Monday* ?**\n",
        "\n",
        "- Pr(rain)\n",
        "- Pr(rain|Monday)\n",
        "- Pr(Monday|rain)\n",
        "- Pr(rain, Monday) / Pr(Monday)\n",
        "\n",
        "**2) Which of the following statements corresponds to the expression: *Pr(Monday|rain)* ?**\n",
        "\n",
        "- The probability of rain on Monday.\n",
        "- The probability of rain, given that it is Monday.\n",
        "- The probability that it is Monday, given that it is raining.\n",
        "- The probability that it is Monday and it is raining.\n",
        "\n",
        "**3) Which of the expressions below correspond to the statement: *the probability that it is Monday, given that it is raining* ?**\n",
        "\n",
        "- Pr(Monday|rain)\n",
        "- Pr(rain|Monday)\n",
        "- Pr(rain | Monday)Pr(Monday)\n",
        "- Pr(rain | Monday)Pr(Monday)/Pr(rain)\n",
        "- Pr(Monday|rain)Pr(rain)/Pr(Monday)"
      ]
    },
    {
      "cell_type": "markdown",
      "source": [
        "> # Exercise 4 Solution:\n",
        "\n",
        "> ## Exercise 4_1 Solution:\n",
        "\n",
        "  > - Pr(rain|Monday)\n",
        "  > - Pr(rain, Monday) / Pr(Monday)\n",
        "  \n",
        "> ## Exercise 4_2 Solution:\n",
        "\n",
        "  > - The probability that it is Monday, given that it is raining.\n",
        "\n",
        "> ## Exercise 4_3 Solution:\n",
        "\n",
        "  > - Pr(Monday|rain)\n",
        "  > - Pr(rain | Monday)Pr(Monday)/Pr(rain)"
      ],
      "metadata": {
        "id": "a0WSDomPBVfc"
      }
    },
    {
      "cell_type": "markdown",
      "metadata": {
        "id": "24SCvRLLwL9L"
      },
      "source": [
        "# Exercise 5\n",
        "\n",
        "Suppose there are two species of panda bear. Both are equally common in the wild and live in the same places. They look exactly alike and eat the same food, and there is yet no genetic assay capable of telling them appart. They differ however in their family sizes. Species A gives birth to twins 10% of the time, otherwise birthing a single infant. Species B births twins 20% of the time, otherwise birthing singleton infants. Assume these numbers are known with certainty, from many years of field research. Now suppose you are managing a captive panda breeding program. You have a new female panda of unknown species, and she has just given birth to twins. \n",
        "\n",
        "**What is the probability that her next birth will also be twins ?**"
      ]
    },
    {
      "cell_type": "markdown",
      "metadata": {
        "tags": [],
        "id": "J9neOr66wL9N"
      },
      "source": [
        "> # Exercise 5 Solution:\n",
        "## Problem Definition:\n",
        "\n",
        "## Let us define the events w.r.t the given information:\n",
        "\n",
        "Species, $S$: $ S \\in {\\{A, B\\}} $\n",
        "\n",
        "- $A$ :- Species $A$.\n",
        "\n",
        "    $\\mathbf{P}(A) = 0.5$ #Since both species are equally likely.\n",
        "\n",
        "- $B$ :- Species $B$.\n",
        "\n",
        "    $\\mathbf{P}(B) = 0.5$ #Since both species are equally likely.\n",
        "\n",
        "- $A, T$ :- Species $A$ giving birth to twins.\n",
        "\n",
        "    $\\mathbf{P}(A, T) = 0.1$\n",
        "\n",
        "- $B, T$ :- Species $B$ giving birth to twins.\n",
        "\n",
        "    $\\mathbf{P}(B, T) = 0.2$\n",
        "\n",
        "- $S, T$ :- A particular female panda $\\in S$ giving birth to twins during first pregency.\n",
        "\n",
        "  $\\begin{align}\n",
        "\\mathbf{P}(S, T) &= \\mathbf{P}(A)* \\mathbf{P}((S, T)|S= A) + \\mathbf{P}(B)* \\mathbf{P}((S, T)| S= B)\\\\\n",
        "&= \\mathbf{P}(A)* \\mathbf{P}(A, T) + \\mathbf{P}(B)* \\mathbf{P}(B, T)\\\\\n",
        "&= 0.5* 0.1 + 0.5* 0.2 = 0.15 \\tag{1}\n",
        "\\end{align}$\n",
        "\n",
        "- $S, T2$ :- The same female panda giving birth to twins during the second pregency.\n",
        "\n",
        "## Goal: Find, $ \\mathbf{P}((S, T2)|(S, T)) $\n",
        "\n",
        "**From Baye's Theorem:**\n",
        "\n",
        "$\\begin{align}\n",
        "\\mathbf{P}((S, T2)|(S, T)) &= \\frac{\\mathbf{P}((S, T2), (S, T))}{\\mathbf{P}(S, T)} \\\\\n",
        "&= \\frac{\\mathbf{P}(A)* \\mathbf{P}(((S, T2), (S, T))|S= A) + \\mathbf{P}(B)* \\mathbf{P}(((S, T2), (S, T))|S= B)}{\\mathbf{P}(S, T)}\\\\\n",
        "&= \\frac{\\mathbf{P}(A)* \\mathbf{P}((A, T2), (A, T)) + \\mathbf{P}(B)* \\mathbf{P}((B, T2), (B, T))}{\\mathbf{P}(S, T)} \\tag{2}\n",
        "\\end{align}$\n",
        "\n",
        "## Remark: \n",
        "- The two births are independent events.\n",
        "\n",
        "  Therefore, \n",
        "\n",
        "  $\\begin{align}\n",
        "  \\mathbf{P}((A, T2), (A, T)) = \\mathbf{P}(A, T2)* \\mathbf{P}(A, T) \\\\\n",
        "  \\mathbf{P}((B, T2), (B, T)) = \\mathbf{P}(B, T2)* \\mathbf{P}(B, T)\n",
        "  \\end{align}$\n",
        "- $\\mathbf{P}(A, T) = \\mathbf{P}(A, T2)= 0.1$\n",
        "- $\\mathbf{P}(B, T) = \\mathbf{P}(B, T2)= 0.2$\n",
        "\n",
        "\n",
        "\n",
        "Continuing from equation (2) and final result of equation (1), \n",
        "\n",
        "$\\begin{align}\n",
        "\\mathbf{P}((S, T2)|(S, T)) &= \\frac{\\mathbf{P}(A)* \\mathbf{P}(A, T2)* \\mathbf{P}(A, T) + \\mathbf{P}(B)* \\mathbf{P}(B, T2)* \\mathbf{P}(B, T)}{\\mathbf{P}(S, T)}\\\\\n",
        "&= \\frac{0.5* 0.1* 0.1 + 0.5* 0.2* 0.2}{0.15} = 0.1667\n",
        "\\end{align}$"
      ]
    }
  ],
  "metadata": {
    "kernelspec": {
      "display_name": "Python 3 (ipykernel)",
      "language": "python",
      "name": "python3"
    },
    "language_info": {
      "codemirror_mode": {
        "name": "ipython",
        "version": 3
      },
      "file_extension": ".py",
      "mimetype": "text/x-python",
      "name": "python",
      "nbconvert_exporter": "python",
      "pygments_lexer": "ipython3",
      "version": "3.9.7"
    },
    "colab": {
      "provenance": [],
      "collapsed_sections": []
    }
  },
  "nbformat": 4,
  "nbformat_minor": 0
}