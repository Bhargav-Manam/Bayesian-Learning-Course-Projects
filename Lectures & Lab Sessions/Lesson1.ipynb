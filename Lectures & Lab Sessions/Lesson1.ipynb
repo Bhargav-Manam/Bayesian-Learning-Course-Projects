{
 "cells": [
  {
   "cell_type": "code",
   "execution_count": 2,
   "metadata": {},
   "outputs": [],
   "source": [
    "import numpy as np\n",
    "import pandas as pd\n",
    "import matplotlib.pyplot as plt"
   ]
  },
  {
   "cell_type": "markdown",
   "metadata": {},
   "source": [
    "# Back to the basics"
   ]
  },
  {
   "cell_type": "markdown",
   "metadata": {},
   "source": [
    "Before diving into the Bayesian ideas, we need to take a step back and introduce a formalism on which to rely throughout this class. The formalism looked for is the one of *probability theory*."
   ]
  },
  {
   "cell_type": "markdown",
   "metadata": {},
   "source": [
    "The key ingredients for us are:\n",
    "- Some possible events $\\omega$\n",
    "- A space $\\Omega$ to which all events belong;\n",
    "- A collection of all possible events we can construct by combining (via **complement, union and intersection**) the elements of $\\Omega$. This collection is known as *power set*, and usually denoted by $\\mathcal{P}(\\Omega)$.  $\\mathcal{P}(\\Omega)$ is a $\\sigma$-algebra. Each subset $\\Sigma$ of $\\mathcal{P}(\\Omega)$ is a $\\sigma$-algebra as well if it satisfies:\n",
    "  - $\\Omega\\in\\Sigma$\n",
    "  - $\\Sigma$ is closed under complement operation: if $A\\in\\Sigma$ then $A^C\\in\\Sigma$\n",
    "  - $\\Sigma$ is closed under countable union: if $A_1,A_2\\dots\\in\\Sigma$ then so is their union $A=A_1 \\cup A_2 \\cup$\n",
    "\n",
    "\n",
    "<img src=\"untitled.svg\"> \n",
    "\n",
    "- A *probability measure* $p$ is a function that associates to each event a measure in the interval $[0,1]$. The measure is such that: \n",
    "    - $p(\\emptyset) = 0$ and $p(\\Omega) = 1$,\n",
    "    - $p(A_1 \\cup A_2 \\cup \\ldots A_n) = p(A_1) + p(A_2) + \\ldots p(A_n)$ (countable additivity) for every pairwise disjoint sets $A_1,\\dots,A_n$."
   ]
  },
  {
   "cell_type": "markdown",
   "metadata": {},
   "source": [
    "**Example.** Let us consider a coin toss. We have 2 possible events: \n",
    "- $\\omega_1 = \\textrm{tail} := \\textrm{T}$ and $\\omega_1 = \\textrm{head} := \\textrm{H}$. \n",
    "- Then $\\Omega=\\{T,H\\}$. \n",
    "- It follows that $\\mathcal{P}(\\Omega)=\\{\\emptyset,\\{T\\},\\{H\\},\\{T,H\\}\\}$\n",
    "- Supposing the coin fair: $p(T)=p(H)=1/2$\n"
   ]
  },
  {
   "cell_type": "markdown",
   "metadata": {
    "slideshow": {
     "slide_type": "slide"
    }
   },
   "source": [
    "The next essential ingredient is the definition of *random variable*. We say that a random variable $X$ is a function that maps each element of $\\Omega$ to a real number $r\\in\\mathbb{R}$. We require the variable to be *measurable*. Formally this means that, for any real value $r$, the set of events $\\omega$ for which $\\{ \\omega \\in \\Omega; X(\\omega) \\leq r\\}$ is still an element of the $\\sigma$-algebra, i.e. it is still a possible event of our space. \n",
    "\n",
    "In simple words, we require that for any outcome related to the random variable, the probability of the associated event is well defined. The match between probabilities and events through the random variable $X$ is called *probability mass function* of $X$ for discrete variables, or *probability density function* for continuous ones."
   ]
  },
  {
   "cell_type": "markdown",
   "metadata": {},
   "source": [
    "**Example (from wikipedia).** The space $\\Omega$ associated to a coin toss is $\\Omega = \\{tail, head\\}$. A random variable $X$ associates to each element of $\\Omega$ a real value. For example, we consider a game for which we earn 1 Euros for a head, and we lose 1 Euro for tail. Therefore, $X(tail) = -1$, and $X(head) = 1$. \n",
    "\n",
    "Thinking backwards, it makes sense to consider the space for which the condition $X = 1$ is true. This means to consider the space of events $A = \\{ \\omega \\in \\Omega; X(\\omega) = 1\\}$, and the associated probability measure $p(A)$. \n",
    "In our example, for a fair coin, we have $p(X = 1) = p(\\{ \\omega \\in \\Omega; X(\\omega) = 1\\}) = \\frac{1}{2}$.\n",
    "\n",
    "\n",
    "<img src=\"https://upload.wikimedia.org/wikipedia/commons/c/c4/Random_Variable_as_a_Function-en.svg\" title=\"By Niyumard - Own work, CC BY-SA 4.0, https://commons.wikimedia.org/w/index.php?curid=76473622\" width=\"400\"/>"
   ]
  },
  {
   "cell_type": "markdown",
   "metadata": {},
   "source": [
    "**Example (from wikipedia).** The events associated to the toss of two dice are all the possible couples of integers $(a,b)$, with $1\\leq a \\leq b \\leq 6$. We consider the random variable $X$ which associates to each event the sum of the dice values $X((a,b)) = a+b$.\n",
    "\n",
    "The probability mass function of $X$ is here illustrated: \n",
    "\n",
    "<img src=\"https://upload.wikimedia.org/wikipedia/commons/1/12/Dice_Distribution_%28bar%29.svg\" title=\"By Tim Stellmach - Own work using Inkscape and Open Office Draw software., Public Domain, https://commons.wikimedia.org/w/index.php?curid=1220091\" width=\"400\"/>\n",
    "\n"
   ]
  },
  {
   "cell_type": "markdown",
   "metadata": {},
   "source": [
    "## Joint probability"
   ]
  },
  {
   "cell_type": "markdown",
   "metadata": {},
   "source": [
    "When dealing with multiple random variables, we often need to quantify the probability associated to their *joint realization*, which means quantifying their joint probability function.\n",
    "\n",
    "Let's consider the following example. We are interested in the variable $X$ indicating the number of children per family, jointly with the varible $Y$ associating the number of bedrooms in the family house. The variable $X$ takes values in $\\Omega^X = \\{0, 1, \\geq 2\\}$, while the variable $Y$ in $\\Omega^Y = \\{1, 2, \\geq 3\\}$.\n",
    "\n",
    "The joint probability for these discrete quantities can be assigned in terms of frequency table:\n",
    "\n"
   ]
  },
  {
   "cell_type": "code",
   "execution_count": 3,
   "metadata": {},
   "outputs": [
    {
     "data": {
      "image/png": "[encoded data removed]",
      "text/plain": [
       "<Figure size 640x480 with 1 Axes>"
      ]
     },
     "metadata": {},
     "output_type": "display_data"
    }
   ],
   "source": [
    "freq = [[0.2,0.05,0.01],[0.09,0.25,0.08],[0.03,0.1,0.19]]\n",
    "\n",
    "plt.clf()\n",
    "plt.imshow(freq, interpolation='nearest', cmap=plt.cm.Wistia)\n",
    "X_values = ['0','1','$\\geq2$']\n",
    "Y_values = ['1','2','$\\geq3$']\n",
    "plt.ylabel('Y (# bedrooms)')\n",
    "plt.xlabel('X (# children)') \n",
    "plt.title('joint frequency f(X,Y)') \n",
    "plt.xticks(np.arange(len(X_values)), X_values, rotation=45)\n",
    "plt.yticks(np.arange(len(Y_values)), Y_values)\n",
    "for i in range(len(X_values)):\n",
    "    for j in range(len(Y_values)):\n",
    "        plt.text(j,i, str(freq[i][j]))\n",
    "plt.show()"
   ]
  },
  {
   "cell_type": "markdown",
   "metadata": {},
   "source": [
    "This table represents the joint probability mass function $p(X,Y)$, for each value of the random variables. Note that, being both random variables discrete, the joint distribution will take a finite number of values as well.\n",
    "\n",
    "We first note that the joint mass function follows the standard requirements for a probability function:\n",
    "\n"
   ]
  },
  {
   "cell_type": "markdown",
   "metadata": {},
   "source": [
    "- each element is included in [0,1];"
   ]
  },
  {
   "cell_type": "markdown",
   "metadata": {},
   "source": [
    "- it sums up to 1: $\\sum_{X,Y}p(X,Y) = 1$:"
   ]
  },
  {
   "cell_type": "code",
   "execution_count": 4,
   "metadata": {
    "tags": []
   },
   "outputs": [
    {
     "name": "stdout",
     "output_type": "stream",
     "text": [
      "The sum of all the probabilities is :  1.0\n"
     ]
    }
   ],
   "source": [
    "print('The sum of all the probabilities is : ', np.sum(freq))"
   ]
  },
  {
   "cell_type": "markdown",
   "metadata": {},
   "source": [
    "Having access to the joint probability allows to draw information on the variables. For example, the probability of having more than 2 bedrooms and 1 child is:\n",
    "$$p(X =1,\\, Y > 2) = 0.1$$"
   ]
  },
  {
   "cell_type": "markdown",
   "metadata": {},
   "source": [
    "If the variables are independent, the joint probability distribution factorises across variables:\n",
    "\n",
    "$$p(X,Y)=p(X)p(Y)$$"
   ]
  },
  {
   "cell_type": "markdown",
   "metadata": {},
   "source": [
    "## Marginal probability"
   ]
  },
  {
   "cell_type": "markdown",
   "metadata": {},
   "source": [
    "Having acces to the joint distribution of two random variables allows to determine the distribution of each variable: we talk about marginal probability. The marginal probability quantifies the individual probability of a single variable, when we take into account **all the possible instances of the the other variable(s)**. \n",
    "For example, the probability of having more than 2 bedrooms, $p(Y \\geq 3)$, is obtained by summing all the entries of the joint frequency table corresponding to the event $Y \\geq 3$:\n",
    "\\begin{align}\n",
    "p(Y \\geq 3) &= p(X = 0 \\cup X = 1 \\cup X\\geq 2 ,\\, Y > 2) \\\\\n",
    "&= p(X = 0 ,\\, Y > 2) + p(X = 1 ,\\, Y > 2) + p(X \\geq 2 ,\\, Y >2) \\\\\n",
    "&= 0.03 + 0.1 + 0.19 = 0.32\n",
    "\\end{align}\n",
    "In this case, we can say that the probability of finding a house with more than 2 bedrooms is .32."
   ]
  },
  {
   "cell_type": "markdown",
   "metadata": {},
   "source": [
    "The marginal probability can be therefore quantified by *marginalizing* the other variables, i.e. by summing over all their possible instances by keeping our variable of interest fixed:\n",
    "\n",
    "$$ p(X) = \\sum_Y p(X,Y)$$\n",
    "$$ p(Y) = \\sum_X p(X,Y)$$"
   ]
  },
  {
   "cell_type": "markdown",
   "metadata": {},
   "source": [
    "**Exercise.** Compute the marginal probablities for X and Y above, and verify that they are valid probability measures."
   ]
  },
  {
   "cell_type": "code",
   "execution_count": 5,
   "metadata": {
    "tags": []
   },
   "outputs": [
    {
     "name": "stdout",
     "output_type": "stream",
     "text": [
      "p(X) =  [0.32 0.4  0.28]\n",
      "p(Y) =  [0.26 0.42 0.32]\n"
     ]
    }
   ],
   "source": [
    "marginal_X = np.sum(np.array(freq),0)\n",
    "marginal_Y = np.sum(np.array(freq),1)\n",
    "\n",
    "print('p(X) = ', marginal_X)\n",
    "\n",
    "print('p(Y) = ', marginal_Y)"
   ]
  },
  {
   "cell_type": "markdown",
   "metadata": {},
   "source": [
    "The marginal distributions are still valid probability measures:"
   ]
  },
  {
   "cell_type": "code",
   "execution_count": 6,
   "metadata": {
    "tags": []
   },
   "outputs": [
    {
     "name": "stdout",
     "output_type": "stream",
     "text": [
      "p(X = 0) + p(X = 1) + p(X > 1) =  1.0\n",
      "p(Y = 1) + p(Y = 2) + p(Y > 2) =  1.0\n"
     ]
    }
   ],
   "source": [
    "print('p(X = 0) + p(X = 1) + p(X > 1) = ', np.sum(marginal_X))\n",
    "print('p(Y = 1) + p(Y = 2) + p(Y > 2) = ', np.sum(marginal_Y))"
   ]
  },
  {
   "cell_type": "markdown",
   "metadata": {},
   "source": [
    "Are $X$ and $Y$ independent?"
   ]
  },
  {
   "cell_type": "code",
   "execution_count": 7,
   "metadata": {
    "tags": []
   },
   "outputs": [
    {
     "name": "stdout",
     "output_type": "stream",
     "text": [
      "p(X=0,Y=1)= 0.2\n",
      "p(X=0)p(Y=1)= 0.08320000000000002\n"
     ]
    }
   ],
   "source": [
    "print('p(X=0,Y=1)=', freq[0][0])\n",
    "print('p(X=0)p(Y=1)=', marginal_X[0]*marginal_Y[0])"
   ]
  },
  {
   "cell_type": "markdown",
   "metadata": {},
   "source": [
    "# Conditional Probability\n",
    "\n",
    "We are left with the last definition of probability for multivariate distributions, and perhaps the least intuitive. \n",
    "We assume that a given value for the variable $Y$ is known, for example $Y=2$. The question is: what is the distribution of the variable $X$ once this piece of information is available? \n",
    "With respect to the joint distribution, this requires to look at the space of events from the point of view of the row corresponding to $Y = 2$, which means to consider the probability space $p(X, Y=2)$:\n",
    "\n"
   ]
  },
  {
   "cell_type": "code",
   "execution_count": 8,
   "metadata": {},
   "outputs": [
    {
     "data": {
      "image/png": "[encoded data removed]",
      "text/plain": [
       "<Figure size 640x480 with 1 Axes>"
      ]
     },
     "metadata": {},
     "output_type": "display_data"
    }
   ],
   "source": [
    "plt.imshow([freq[1]], interpolation='nearest', cmap=plt.cm.Wistia)\n",
    "X_values = ['0','1','$\\geq2$']\n",
    "Y_values = ['2']\n",
    "plt.ylabel('Y (# bedrooms)')\n",
    "plt.xlabel('X (# children)') \n",
    "plt.title('joint probability p(X,Y=2)') \n",
    "plt.xticks(np.arange(len(X_values)), X_values, rotation=45)\n",
    "plt.yticks(np.arange(len(Y_values)), Y_values)\n",
    "for i in range(len(X_values)):\n",
    "    for j in range(len(Y_values)):\n",
    "        plt.text(i,j, str([freq[1]][j][i]))\n",
    "plt.show()"
   ]
  },
  {
   "cell_type": "markdown",
   "metadata": {},
   "source": [
    "To define a valid probability function we need to normalize this function to 1, therefore by dividing by the sum of all the entries: $p(X=0, Y=2) + p(X=1, Y=2) + p(X\\geq2, Y=2) = p(Y=2)$.\n",
    "In this way we define a new probability function, called conditional probability of $X$ given $Y$ and indicated by $p(X|Y)$:\n",
    "\n",
    "$$p(X|Y) = \\frac{p(X,Y)}{p(Y)}$$\n"
   ]
  },
  {
   "cell_type": "code",
   "execution_count": 9,
   "metadata": {},
   "outputs": [
    {
     "data": {
      "image/png": "[encoded data removed]",
      "text/plain": [
       "<Figure size 640x480 with 1 Axes>"
      ]
     },
     "metadata": {},
     "output_type": "display_data"
    }
   ],
   "source": [
    "plt.imshow([freq[1]], interpolation='nearest', cmap=plt.cm.Wistia)\n",
    "X_values = ['0','1','$\\geq2$']\n",
    "Y_values = ['2']\n",
    "plt.ylabel('Y (# bedrooms)')\n",
    "plt.xlabel('X (# children)') \n",
    "plt.title('conditional probability p(X|Y=2)') \n",
    "plt.xticks(np.arange(len(X_values)), X_values, rotation=45)\n",
    "plt.yticks(np.arange(len(Y_values)), Y_values)\n",
    "for i in range(len(X_values)):\n",
    "    for j in range(len(Y_values)):\n",
    "        plt.text(i,j, \"{:.2f}\".format([freq[1]][j][i]/np.sum(freq[1])))\n",
    "plt.show()"
   ]
  },
  {
   "cell_type": "markdown",
   "metadata": {},
   "source": [
    "**Exercise.** In the game of throwing two dice, compute the probability that the sum of the outcomes is 7, given that one die was 2.\n",
    "\n",
    "Let $X = \\{\\mbox{sum is 7}\\}$, and $Y = \\{\\mbox{one die is 2}\\}$. When throwing the dice we have 36 configurations.\n",
    "The probability that at least one die is 2 is $p(Y) = \\frac{11}{36}$, while the probability of having sum 7 **and** that one die is 2 is $p(X,Y) = \\frac{2}{36}$. By applying the rule, we obtain $p(X|Y) = \\frac{2}{36}/\\frac{11}{36} = \\frac{2}{11}$.\n"
   ]
  },
  {
   "cell_type": "markdown",
   "metadata": {},
   "source": [
    "## Independent Random variables\n",
    "In case of **independent variables**, conditioning a variable on another leaves the probability of the variable unchanged:\n",
    "\n",
    "$$p(X|Y)=\\frac{p(X,Y)}{p(Y)} = \\frac{p(X)p(Y)}{p(Y)} = p(X)$$"
   ]
  },
  {
   "cell_type": "markdown",
   "metadata": {},
   "source": [
    "# Expectation and Variance\n",
    "\n",
    "Fundamental quantities associated to a random variable $X$ are the mean $\\mathbf{E}(X)$ and variance $Var(X)$.\n",
    "We recall their definition for discrete variables:\n",
    "\n",
    "$$\\mathbf{E}(X) = \\sum_X p(X) X; $$ \n",
    "\n",
    "$$Var(X) = \\mathbf{E}((X - \\mathbf{E}(X))^2).$$\n",
    "\n",
    "The expectation is a linear operator, which means that:\n",
    "\n",
    "- $\\mathbf{E}(kX) = k \\mathbf{E}(X)$, for constant $k$;\n",
    "- $\\mathbf{E}(X + Y) = \\mathbf{E}(X) + \\mathbf{E}(Y)$, for random variables $X$ and $Y$;\n",
    "\n",
    "\n",
    "\n"
   ]
  },
  {
   "cell_type": "markdown",
   "metadata": {},
   "source": [
    "**Exercise.** Prove the linearity of the expectation.\n",
    "$$\\mathbf{E}(kX) = \\sum_X (kX) p(X) = k \\sum_X Xp(X) = k\\mathbf{E}(X)$$\n"
   ]
  },
  {
   "cell_type": "markdown",
   "source": [
    "$$\\mathbf{E}(X+Y) = \\sum_X\\sum_Y (X+Y) p(X,Y)$$\n",
    "$$= \\sum_X\\sum_Y X p(X,Y) + \\sum_X\\sum_Y Y p(X,Y)$$\n",
    "$$= \\sum_X X \\sum_Y  p(X,Y) + \\sum_Y Y \\sum_X  p(X,Y)$$\n",
    "$$= \\sum_X X p(X) + \\sum_Y Y p(Y)$$\n",
    "$$= \\mathbf{E}(X) + \\mathbf{E}(Y)$$"
   ],
   "metadata": {
    "collapsed": false
   }
  },
  {
   "cell_type": "markdown",
   "metadata": {},
   "source": [
    "Thanks to the linearity properties of the Expectation, the Variance can be reformulated as:\n",
    "\n",
    "$$Var(X) = \\mathbf{E}(X^2) - \\mathbf{E}(X)^2$$\n",
    "\n",
    "The proof is straighforward:\n",
    "\n",
    "\\begin{align}\n",
    "Var(X) &= \\mathbf{E}((X-\\mathbf{E}(X))^2) = \\mathbf{E}(X^2-2X\\mathbf{E}(X) + \\mathbf{E}(X)^2) \\\\\n",
    "&= \\mathbf{E}(X^2) - 2\\mathbf{E}(X)\\mathbf{E}(X) + \\mathbf{E}(X)^2 \\\\\n",
    "&= \\mathbf{E}(X^2) - \\mathbf{E}(X)^2\n",
    "\\end{align}"
   ]
  },
  {
   "cell_type": "markdown",
   "metadata": {},
   "source": [
    "**Exercise.** Consider the random variables $X$ and $Y$ with following joint distribution:"
   ]
  },
  {
   "cell_type": "code",
   "execution_count": 10,
   "metadata": {},
   "outputs": [
    {
     "data": {
      "image/png": "[encoded data removed]",
      "text/plain": [
       "<Figure size 640x480 with 1 Axes>"
      ]
     },
     "metadata": {},
     "output_type": "display_data"
    }
   ],
   "source": [
    "prob = np.array([[0.1,0.1,0.0],[0.2,0.1,0.1],[0.0,0.2,0.2]])\n",
    "\n",
    "plt.clf()\n",
    "plt.imshow(prob, interpolation='nearest', cmap=plt.cm.Wistia)\n",
    "X = [0,1,2]\n",
    "Y = [1,2,4]\n",
    "plt.ylabel('Y')\n",
    "plt.xlabel('X') \n",
    "plt.title('p(X,Y)') \n",
    "plt.xticks(np.arange(len(X)), X, rotation=45)\n",
    "plt.yticks(np.arange(len(Y)), Y)\n",
    "for i in range(len(X)):\n",
    "    for j in range(len(Y)):\n",
    "        plt.text(j,i, str(prob[i][j]))\n",
    "plt.show()"
   ]
  },
  {
   "cell_type": "markdown",
   "metadata": {},
   "source": [
    "Compute:\n",
    "\n",
    "- $p(X)$\n",
    "- $p(Y)$\n",
    "- $\\mathbf{E}(X)$\n",
    "- $\\mathbf{E}(Y)$\n",
    "- $p(X|Y=4)$\n",
    "- $p(Y|X=2)$\n"
   ]
  },
  {
   "cell_type": "code",
   "execution_count": 11,
   "metadata": {},
   "outputs": [
    {
     "name": "stdout",
     "output_type": "stream",
     "text": [
      "p(X) =  [0.3 0.4 0.3]\n",
      "p(Y) =  [0.2 0.4 0.4]\n",
      "E(X) =  1.0\n",
      "E(Y) =  2.6\n",
      "p(X|Y=4) =  [0.  0.5 0.5]\n",
      "p(Y|X=2) =  [0.         0.33333333 0.66666667]\n"
     ]
    }
   ],
   "source": [
    "p_X = np.sum(prob,0)\n",
    "p_Y = np.sum(prob,1)\n",
    "\n",
    "E_X = np.sum([p_X[i] * X[i] for i in range(len(p_X))])\n",
    "E_Y = np.sum([p_Y[i] * Y[i] for i in range(len(p_Y))])\n",
    "\n",
    "p_X_given_Y4 = prob[2,:]/p_Y[2]\n",
    "p_Y_given_X2 = prob[:,2]/p_X[2]\n",
    "\n",
    "print('p(X) = ', p_X)\n",
    "print('p(Y) = ', p_Y)\n",
    "\n",
    "print('E(X) = ', E_X)\n",
    "print('E(Y) = ', E_Y)\n",
    "\n",
    "print('p(X|Y=4) = ', p_X_given_Y4)\n",
    "print('p(Y|X=2) = ', p_Y_given_X2)\n"
   ]
  },
  {
   "cell_type": "markdown",
   "metadata": {},
   "source": [
    "**Exercise.** The variables $X$ and $Y$ are independent and with following probability masses:\n",
    "\n",
    "$$p(X=1) = 0.2 \\qquad p(X=2) = 0.2 \\qquad p(X=3) = 0.6$$\n",
    "$$p(Y=0) = 0.4 \\qquad p(Y=1) = 0.3 \\qquad p(Y=2) = 0.3$$\n",
    "\n",
    "Compute $\\mathbf{E}(X)$, $\\mathbf{E}(Y)$, $\\mathbf{E}(X + Y)$, and $\\mathbf{E}(XY)$."
   ]
  },
  {
   "cell_type": "code",
   "execution_count": 12,
   "metadata": {
    "tags": []
   },
   "outputs": [
    {
     "name": "stdout",
     "output_type": "stream",
     "text": [
      "The joint probability of the independent variables X and Y is: \n",
      " [[0.08 0.06 0.06]\n",
      " [0.08 0.06 0.06]\n",
      " [0.24 0.18 0.18]]\n",
      "The expectation of XY is:  2.16\n",
      "The expectation of X+Y is:  3.3  (linearity formula)\n",
      "The expectation of X+Y is:  3.3  (definition of expectation)\n"
     ]
    }
   ],
   "source": [
    "X = np.array([1,2,3])\n",
    "p_X = np.array([0.2,0.2,0.6])\n",
    "\n",
    "Y = np.array([0,1,2])\n",
    "p_Y = np.array([0.4,0.3,0.3])\n",
    "\n",
    "E_X = np.sum(X*p_X)\n",
    "E_Y = np.sum(Y*p_Y)\n",
    "\n",
    "E_X_plus_Y = E_X + E_Y\n",
    "\n",
    "# computing the joint probability p(X,Y)\n",
    "# Since the variables are independent we p(X,Y) = p(X)p(Y)\n",
    "\n",
    "p_XY = np.zeros([len(X),len(Y)])\n",
    "for i in range(len(X)):\n",
    "    for j in range(len(Y)):\n",
    "        p_XY[i,j] = p_X[i] * p_Y[j]\n",
    "\n",
    "print('The joint probability of the independent variables X and Y is: \\n', p_XY)\n",
    "\n",
    "#Computing X_times_Y\n",
    "XY = np.zeros([len(X),len(Y)])\n",
    "for i in range(len(X)):\n",
    "    for j in range(len(Y)):\n",
    "        XY[i,j] = X[i] * Y[j]\n",
    "\n",
    "#Computing the expectation of X_times_Y\n",
    "E_XY = np.sum(p_XY*XY)\n",
    "print ('The expectation of XY is: ', E_XY)\n",
    "\n",
    "#We also verify the linearity of the expectation\n",
    "X_plus_Y = np.zeros([len(X),len(Y)])\n",
    "for i in range(len(X)):\n",
    "    for j in range(len(Y)):\n",
    "        X_plus_Y[i,j] = X[i] + Y[j]\n",
    "\n",
    "E_X_plus_Y_verify = np.sum(p_XY*X_plus_Y)        \n",
    "\n",
    "print ('The expectation of X+Y is: ', E_X_plus_Y, ' (linearity formula)')\n",
    "print ('The expectation of X+Y is: ', E_X_plus_Y_verify, ' (definition of expectation)')\n",
    "        "
   ]
  },
  {
   "cell_type": "markdown",
   "metadata": {},
   "source": [
    "# From discrete to continous variables\n",
    "\n",
    "When working with continunos random variables, the concept seen so far naturally translates with the difference that the sum over finite cases transforms into an *integral* over the domain of interest. \n",
    "Here an overview of the basic notions:\n",
    "\n",
    "- marginal: $p(X) = \\int_Y p(X,Y) dY$;\n",
    "- expectation: $\\mathbf{E}(X) = \\int_X X p(X) dX$;\n",
    "- variance: $Var(X) = \\int_X (X-\\mathbf{E}(X))^2 p(X)dX$\n",
    "\n"
   ]
  },
  {
   "cell_type": "markdown",
   "metadata": {},
   "source": [
    "**Exercise.** Let the joint probability density function of $X$ and $Y$ be:\n",
    "\n",
    "$$ p(X,Y) = 8XY,\\, X,Y\\in A\\subset\\mathrm{R}^2, $$\n",
    "\n",
    "and let $A$ be the region bounded by the line $X=1$ and the line $X=Y$, and such that $X>0$ and $Y>0$.\n",
    "\n",
    "- Verify that p(X,Y) is a valid probability density function"
   ]
  },
  {
   "cell_type": "markdown",
   "metadata": {},
   "source": [
    "We require that $\\int_{X,Y}p(X,Y)dX,dY = \\int_{0\\leq X \\leq 1}\\int_{0\\leq Y \\leq X} p(X,Y) dX,dY = 1$. \n",
    "Doing some maths we obtain:\n",
    "\n",
    "\\begin{align}\n",
    "\\int_{X,Y}p(X,Y)dX,dY &= 8 \\int_{0\\leq X \\leq 1} X \\frac{X^2}{2} dX,dY\\\\\n",
    "&= 4 \\frac{X^4}{4}\\rvert_{0}^{1} = 1\n",
    "\\end{align}\n"
   ]
  },
  {
   "cell_type": "markdown",
   "metadata": {},
   "source": [
    "- Compute $p(0.5<X<1,0<Y <0.5)$.\n",
    "\n",
    "$$p(0.5<X<1,0<Y <0.5) = \\int_{0.5}^{1}\\int_{0}^{0.5} 8XY dXdY$$\n",
    "$$= 8 \\int_{0.5}^1 X \\frac{0.5^2}{2} dX $$\n",
    "$$ =  (\\frac{1}{2} - \\frac{0.5^2}{2}) =  \\frac{3}{8} $$\n",
    "\n",
    "- Compute $\\mathbf{E}(X)$.\n",
    "\n",
    "We first need to compute $p(X)$ by marginalizing with repect to $Y$:\n",
    "\n",
    "$$p(X) = \\int_{0}^Xp(X,Y) dY = 4 X^3$$\n",
    "\n",
    "We can now compute the expectation:\n",
    "\n",
    "$$\\mathbf{E}(X) = \\int_{0}^{1}Xp(X)dX $$\n",
    "$$= 4 \\int_{0}^{1}X^4dX = \\frac{4}{5}$$"
   ]
  },
  {
   "cell_type": "markdown",
   "metadata": {},
   "source": [
    "- Compute $p(Y|X)$, and verify that it is a valid probability function.\n",
    "\n",
    "From the formula for the conditional distribution we have:\n",
    "\n",
    "$$p(Y|X) = \\frac{p(X,Y)}{p(X)} = 2\\frac{XY}{X^3} = 2YX^{-2}$$\n",
    "\n",
    "We now verify that $\\int p(Y|X) dY= 1$:\n",
    "\n",
    "$$\\int_0^X 2YX^{-2}dY = 2 \\frac{X^2}{2}X^{-2} = 1$$\n"
   ]
  },
  {
   "cell_type": "markdown",
   "metadata": {
    "jp-MarkdownHeadingCollapsed": true,
    "tags": []
   },
   "source": [
    "# Conditional Expectation and Variance\n",
    "\n",
    "The conditional Expectation is the expectation of the conditional distribution $p(X|Y)$.\n",
    "\n",
    "$$\\mathbf{E}(X|Y) = \\sum_X X p(X|Y)\\qquad\\mbox(discrete)$$\n",
    "$$\\mathbf{E}(X|Y) = \\int_X X p(X|Y) dX\\qquad\\mbox(continuous)$$\n",
    "\n",
    "Similarly we have:\n",
    "\n",
    "$$Var(X|Y) = \\sum_X (X - \\mathbf{E}(X|Y))^2 p(X|Y)\\qquad\\mbox(discrete)$$\n",
    "and \n",
    "$$Var(X|Y) = \\int_X (X - \\mathbf{E}(X|Y))^2 p(X|Y)dX\\qquad\\mbox(continuous)$$"
   ]
  },
  {
   "cell_type": "markdown",
   "metadata": {},
   "source": [
    "**Exercise.**\n",
    "Suppose $p(X,Y) = X+Y$, in the domain $0<X<1$, $0<Y<1$.\n",
    "- Compute p(Y|X =0.5)\n",
    "\n",
    "$$p(X) = \\int_0^1 X+Y dY = \\frac{1}{2} + X$$\n",
    "$$p(Y|X) = p(X,Y)/p(X) = \\frac{X+Y}{X+\\frac{1}{2}}$$\n",
    "$$p(Y|X=0.5) = 0.5 + Y$$\n",
    "\n",
    "Let's verify that this probability function is well defined:\n",
    "\n",
    "$$\\int_0^1p(Y|X=\\frac{1}{2}) = \\frac{1}{2}+ \\int_{0}^1pYdY  = \\frac{1}{2} + \\frac{1}{2} = 1$$ \n"
   ]
  },
  {
   "cell_type": "markdown",
   "metadata": {},
   "source": [
    "- Compute $\\mathbf{E}(Y|X=\\frac{1}{2})$\n",
    "\n",
    "\\begin{align} \n",
    "\\mathbf{E}(Y|X=\\frac{1}{2}) &= \\int_0^1 Y (\\frac{1}{2} + Y) dY =  \\\\\n",
    "&= \\frac{1}{2} \\int_0^1 Y dY + \\int_0^1 Y^2 = \\frac{1}{4} + \\frac{1}{3} = \\frac{7}{12}\n",
    "\\end{align}"
   ]
  },
  {
   "cell_type": "markdown",
   "metadata": {},
   "source": [
    "# Conditional distribution and Bayes' Theorem\n",
    "\n",
    "The conditional distribution is symmetric with respect to the variables $X$ and $Y$. In particular, we have:\n",
    "\n",
    "$$ p(X,Y) = p(X|Y) p(Y) = p(Y|X) p(X).$$\n",
    "\n",
    "We can therefore derive  **Bayes' theorem**, the fundamental relationship at the basis of Bayesian Learning:\n",
    "\n",
    "$$ p(X|Y) = \\frac{p(Y|X)p(X)}{p(Y)}$$\n",
    "\n",
    "In Bayes theorem, the conditional probability term  $p(Y|X)$  is called *likelihood*, while the term $p(X)$ is called *prior*. In particular, the prior encodes our knowledge about $X$ independently from the $Y$, while the likelihood expresses our model for $Y$ once the variable $X$ is known. In the following lessons, we will see that the likelihood term will enable to link data to model parameters. \n",
    "As we have seen before, the denominator term $p(Y)$ is a normalizing constant. It can be found by marginalization: $p(Y) = \\sum_X p(X,Y) = \\sum_X p(Y|X)p(X)$, for discrete variables, and $p(Y) = \\int_X p(X,Y) dx = \\int_X p(Y|X)p(X) dX$, for continuous ones. \n"
   ]
  },
  {
   "cell_type": "markdown",
   "metadata": {},
   "source": [
    "**Exercise.**\n",
    "\n",
    "A diagnostic test has a probability $0.95$ of giving a positive result when applied to a person suffering from a certain disease, and a probability $0.10$ of giving a (false) positive when applied to a non-sufferer. It is estimated that $0.5\\%$ of the population are sufferers. Suppose that the test is now administered to a person about whom we have no relevant information relating to the disease (apart from the fact that he/she comes from this population). Calculate the following probabilities:\n",
    "- that the test result will be positive;\n",
    "- that, given a positive result, the person is a sufferer;\n",
    "- that, given a negative result, the person is a non-sufferer;\n",
    "- that the person will be misclassified."
   ]
  },
  {
   "cell_type": "markdown",
   "metadata": {},
   "source": [
    "Let T = “Test positive”, S = “Sufferer”. Then p(T|S) = 0.95, p(T|S') = 0.10, p(S) = 0.005. Hence\n",
    "- p(T) = p(T |S)p(S) + P(T|S')P(S') = (0.95 × 0.005) + (0.1 × 0.995) = 0.10425. \n",
    "- p(S|T ) = p(T |S)p(S)/p(T) = (0.95 × 0.005) / 0.10425 = 0.045\n",
    "- p(S'|T') = p(T' |S')p(S')/p(T') = (1-p(T |S'))(1-p(S))/(1-p(T)) = 0.90 * 0.995 / 0.89575 = 0.9997209\n",
    "- p(M) = p(T', S) + p(T,S')  = p(T′|S)p(S) + p(T|S′)p(S′) = (1-p(T|S)) p(S) + p(T|S')(1-p(S)) = 0.05 * 0.005 + 0.1 * 0.995 = 0.09975\n",
    "\n"
   ]
  },
  {
   "cell_type": "markdown",
   "metadata": {},
   "source": [
    "**Exercise. (the Monty Hall problem)** \n",
    "Assume that a room is equipped with three doors. Behind two are goats, and behind the third is a shiny new car. You are asked to pick a door, and will win whatever is behind it. Let's say you pick door 1. Before the door is opened, however, the presenter who knows what's behind the doors  opens one of the other two doors, revealing a goat. The presenter then asks you if you wish to change your selection to the third door (i.e., the door which neither you picked nor he opened). The Monty Hall problem is deciding what you are going to do. (This is a famous example of logical thinking, and can be found for example in https://en.wikipedia.org/wiki/Monty_Hall_problem)"
   ]
  },
  {
   "cell_type": "markdown",
   "metadata": {},
   "source": [
    "We have here 3 doors (1,2, and 3), and we selected the door number 1. Let's say that the door that was open is number 2. \n",
    "We have here 2 choices, *change* to door 3, or *stay* in door 1. \n",
    "We ultimately need to compute the probability of winning under the different strategies $p(1 = car | open 2)$ (stay), and $p(1 = goat | open 2)$ (change). "
   ]
  },
  {
   "cell_type": "markdown",
   "metadata": {},
   "source": [
    "We apply the Bayes rule: \n",
    "    \n",
    "$$p(\\mbox{car behind 1}| \\mbox{open 2 after choice}) = \\frac{p( \\mbox{open 2 after choice}| \\mbox{car behind 1} ) p(\\mbox{car behind 1})}{p(\\mbox{open 2 after choice})}$$\n",
    "\n",
    "Before the game starts, without any knowledge, we have that  $p(\\mbox{car behind 1}) = p(\\mbox{car behind 2}) = p(\\mbox{car behind 3}) = \\frac{1}{3}$.\n",
    "After we make the choice, the choice of the presenter, (event $\\mbox{open 2 after choice}$) depends on the choice we made. If the car is behind door 1, and thus we are right, the presenter has two possibilities for his choice $p(\\mbox{open 2 after choice}| \\mbox{car behind 1}) = \\frac{1}{2}$. \n",
    "\n",
    "We now assume that however the car is not beyond door 1, and thus our choice is wrong. If the car is behind door 2, the presenter cannot open that door, thus $p(\\mbox{open 2 after choice}| \\mbox{car behind 2}) = 0$. If the car is behind door 3, the presenter will be forced to open door 2:  $p(\\mbox{open 2 after choice}| \\mbox{car behind 3}) = 1$. \n",
    "\n",
    "\n",
    "We therefore have \n",
    "\\begin{align}\n",
    "p(\\mbox{open 2 after choice}) &= \\sum_{door} p(\\mbox{open 2 after choice} , \\mbox{car behind door} ) \\\\\n",
    "&= \\sum_{door} p(\\mbox{open 2 after choice} | \\mbox{car behind door} ) p(\\mbox{car behind door} )\\\\\n",
    "&= p(\\mbox{open 2 after choice} | \\mbox{car behind 1} ) p(\\mbox{car behind 1} ) \\\\\n",
    "&+ p(\\mbox{open 2 after choice} | \\mbox{car behind 2} ) p(\\mbox{car behind 2} ) \\\\\n",
    "&+ p(\\mbox{open 2 after choice} | \\mbox{car behind 3} ) p(\\mbox{car behind 3} ) \\\\\n",
    "&= \\frac{1}{2} \\frac{1}{3} + 0 \\frac{1}{3} + 1 \\frac{1}{3} =  \\frac{1}{3} = \\frac{1}{2}\n",
    "\\end{align}\n",
    "\n",
    "Substituting in the Bayes rule we have:\n",
    "\n",
    "$$p(\\mbox{car behind 1}| \\mbox{open 2 after choice}) = \\frac{\\frac{1}{2}\\frac{1}{3}}{\\frac{1}{2}} = \\frac{1}{3}.$$\n",
    "\n",
    "We also have\n",
    "\n",
    "$$p(\\mbox{car behind 3}| \\mbox{open 2 after choice}) = \\frac{1\\frac{1}{3}}{\\frac{1}{2}} = \\frac{2}{3}.$$\n",
    "\n",
    "Therefore it is convenient to change the door (!).\n"
   ]
  },
  {
   "cell_type": "markdown",
   "metadata": {},
   "source": [
    "*Remark.* For those following the course on model selection, this problem involves the computation of the *Bayes factor* between the models $p(\\mbox{car behind 1}| \\mbox{open 2 after choice})$ and $p(\\mbox{car behind 3}| \\mbox{open 2 after choice})$."
   ]
  }
 ],
 "metadata": {
  "kernelspec": {
   "display_name": "Python 3 (ipykernel)",
   "language": "python",
   "name": "python3"
  },
  "language_info": {
   "codemirror_mode": {
    "name": "ipython",
    "version": 3
   },
   "file_extension": ".py",
   "mimetype": "text/x-python",
   "name": "python",
   "nbconvert_exporter": "python",
   "pygments_lexer": "ipython3",
   "version": "3.10.6"
  }
 },
 "nbformat": 4,
 "nbformat_minor": 4
}
